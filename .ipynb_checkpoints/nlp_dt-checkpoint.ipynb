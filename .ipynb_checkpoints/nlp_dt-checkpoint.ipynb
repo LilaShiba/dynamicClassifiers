{
 "cells": [
  {
   "cell_type": "code",
   "execution_count": 1,
   "id": "a683ef85",
   "metadata": {},
   "outputs": [],
   "source": [
    "import re\n",
    "import nltk\n",
    "import string\n",
    "import numpy as np\n",
    "import pandas as pd\n",
    "import sklearn as scipy\n",
    "from math import log, e\n",
    "from nltk.corpus import stopwords\n",
    "from collections import defaultdict\n",
    "from nltk.stem import PorterStemmer\n",
    "from sklearn.feature_extraction.text import CountVectorizer"
   ]
  },
  {
   "cell_type": "code",
   "execution_count": 2,
   "id": "16b08f6b",
   "metadata": {},
   "outputs": [
    {
     "data": {
      "text/html": [
       "<div>\n",
       "<style scoped>\n",
       "    .dataframe tbody tr th:only-of-type {\n",
       "        vertical-align: middle;\n",
       "    }\n",
       "\n",
       "    .dataframe tbody tr th {\n",
       "        vertical-align: top;\n",
       "    }\n",
       "\n",
       "    .dataframe thead th {\n",
       "        text-align: right;\n",
       "    }\n",
       "</style>\n",
       "<table border=\"1\" class=\"dataframe\">\n",
       "  <thead>\n",
       "    <tr style=\"text-align: right;\">\n",
       "      <th></th>\n",
       "      <th>title</th>\n",
       "      <th>text</th>\n",
       "      <th>subject</th>\n",
       "      <th>date</th>\n",
       "      <th>target</th>\n",
       "    </tr>\n",
       "  </thead>\n",
       "  <tbody>\n",
       "    <tr>\n",
       "      <th>0</th>\n",
       "      <td>Donald Trump Sends Out Embarrassing New Year’...</td>\n",
       "      <td>Donald Trump just couldn t wish all Americans ...</td>\n",
       "      <td>News</td>\n",
       "      <td>December 31, 2017</td>\n",
       "      <td>1</td>\n",
       "    </tr>\n",
       "    <tr>\n",
       "      <th>1</th>\n",
       "      <td>Drunk Bragging Trump Staffer Started Russian ...</td>\n",
       "      <td>House Intelligence Committee Chairman Devin Nu...</td>\n",
       "      <td>News</td>\n",
       "      <td>December 31, 2017</td>\n",
       "      <td>1</td>\n",
       "    </tr>\n",
       "    <tr>\n",
       "      <th>2</th>\n",
       "      <td>Sheriff David Clarke Becomes An Internet Joke...</td>\n",
       "      <td>On Friday, it was revealed that former Milwauk...</td>\n",
       "      <td>News</td>\n",
       "      <td>December 30, 2017</td>\n",
       "      <td>1</td>\n",
       "    </tr>\n",
       "    <tr>\n",
       "      <th>3</th>\n",
       "      <td>Trump Is So Obsessed He Even Has Obama’s Name...</td>\n",
       "      <td>On Christmas day, Donald Trump announced that ...</td>\n",
       "      <td>News</td>\n",
       "      <td>December 29, 2017</td>\n",
       "      <td>1</td>\n",
       "    </tr>\n",
       "    <tr>\n",
       "      <th>4</th>\n",
       "      <td>Pope Francis Just Called Out Donald Trump Dur...</td>\n",
       "      <td>Pope Francis used his annual Christmas Day mes...</td>\n",
       "      <td>News</td>\n",
       "      <td>December 25, 2017</td>\n",
       "      <td>1</td>\n",
       "    </tr>\n",
       "  </tbody>\n",
       "</table>\n",
       "</div>"
      ],
      "text/plain": [
       "                                               title  \\\n",
       "0   Donald Trump Sends Out Embarrassing New Year’...   \n",
       "1   Drunk Bragging Trump Staffer Started Russian ...   \n",
       "2   Sheriff David Clarke Becomes An Internet Joke...   \n",
       "3   Trump Is So Obsessed He Even Has Obama’s Name...   \n",
       "4   Pope Francis Just Called Out Donald Trump Dur...   \n",
       "\n",
       "                                                text subject  \\\n",
       "0  Donald Trump just couldn t wish all Americans ...    News   \n",
       "1  House Intelligence Committee Chairman Devin Nu...    News   \n",
       "2  On Friday, it was revealed that former Milwauk...    News   \n",
       "3  On Christmas day, Donald Trump announced that ...    News   \n",
       "4  Pope Francis used his annual Christmas Day mes...    News   \n",
       "\n",
       "                date  target  \n",
       "0  December 31, 2017       1  \n",
       "1  December 31, 2017       1  \n",
       "2  December 30, 2017       1  \n",
       "3  December 29, 2017       1  \n",
       "4  December 25, 2017       1  "
      ]
     },
     "execution_count": 2,
     "metadata": {},
     "output_type": "execute_result"
    }
   ],
   "source": [
    "df_fake =pd.read_csv('data/newsData/Fake.csv')\n",
    "df_true =pd.read_csv('data/newsData/Fake.csv')\n",
    "\n",
    "df_fake['target'] = 0\n",
    "df_true['target'] = 1\n",
    "df = df_true.append(df_fake, ignore_index=True)\n",
    "\n",
    "df.head()"
   ]
  },
  {
   "cell_type": "code",
   "execution_count": 3,
   "id": "a77644e8",
   "metadata": {},
   "outputs": [
    {
     "name": "stderr",
     "output_type": "stream",
     "text": [
      "[nltk_data] Downloading package stopwords to /Users/kjams/nltk_data...\n",
      "[nltk_data]   Package stopwords is already up-to-date!\n"
     ]
    }
   ],
   "source": [
    "nltk.download('stopwords')\n",
    "stopwords = nltk.corpus.stopwords.words('english')\n",
    "ps = PorterStemmer()\n",
    "def getTokenMatrix(text):\n",
    "    # lower case applied to every char save puncuation\n",
    "    text = [word.lower() for word in text if word not in string.punctuation]\n",
    "    # turn array of lower case letters into words, delimitter is a space \n",
    "    text = ''.join(text)\n",
    "    pattern = \"[^\\w]\"\n",
    "    deltaDf = re.sub(pattern, \" \",  text).split()\n",
    "    deltaDf = [ps.stem(word) for word in deltaDf if word not in \n",
    "               stopwords]\n",
    "    return deltaDf"
   ]
  },
  {
   "cell_type": "code",
   "execution_count": 4,
   "id": "b7bd746a",
   "metadata": {},
   "outputs": [
    {
     "data": {
      "text/html": [
       "<div>\n",
       "<style scoped>\n",
       "    .dataframe tbody tr th:only-of-type {\n",
       "        vertical-align: middle;\n",
       "    }\n",
       "\n",
       "    .dataframe tbody tr th {\n",
       "        vertical-align: top;\n",
       "    }\n",
       "\n",
       "    .dataframe thead th {\n",
       "        text-align: right;\n",
       "    }\n",
       "</style>\n",
       "<table border=\"1\" class=\"dataframe\">\n",
       "  <thead>\n",
       "    <tr style=\"text-align: right;\">\n",
       "      <th></th>\n",
       "      <th>title</th>\n",
       "      <th>text</th>\n",
       "      <th>features</th>\n",
       "    </tr>\n",
       "  </thead>\n",
       "  <tbody>\n",
       "    <tr>\n",
       "      <th>0</th>\n",
       "      <td>Donald Trump Sends Out Embarrassing New Year’...</td>\n",
       "      <td>Donald Trump just couldn t wish all Americans ...</td>\n",
       "      <td>([donald, trump, send, embarrass, new, year, e...</td>\n",
       "    </tr>\n",
       "    <tr>\n",
       "      <th>1</th>\n",
       "      <td>Drunk Bragging Trump Staffer Started Russian ...</td>\n",
       "      <td>House Intelligence Committee Chairman Devin Nu...</td>\n",
       "      <td>([drunk, brag, trump, staffer, start, russian,...</td>\n",
       "    </tr>\n",
       "    <tr>\n",
       "      <th>2</th>\n",
       "      <td>Sheriff David Clarke Becomes An Internet Joke...</td>\n",
       "      <td>On Friday, it was revealed that former Milwauk...</td>\n",
       "      <td>([sheriff, david, clark, becom, internet, joke...</td>\n",
       "    </tr>\n",
       "    <tr>\n",
       "      <th>3</th>\n",
       "      <td>Trump Is So Obsessed He Even Has Obama’s Name...</td>\n",
       "      <td>On Christmas day, Donald Trump announced that ...</td>\n",
       "      <td>([trump, obsess, even, obama, name, code, webs...</td>\n",
       "    </tr>\n",
       "    <tr>\n",
       "      <th>4</th>\n",
       "      <td>Pope Francis Just Called Out Donald Trump Dur...</td>\n",
       "      <td>Pope Francis used his annual Christmas Day mes...</td>\n",
       "      <td>([pope, franci, call, donald, trump, christma,...</td>\n",
       "    </tr>\n",
       "  </tbody>\n",
       "</table>\n",
       "</div>"
      ],
      "text/plain": [
       "                                               title  \\\n",
       "0   Donald Trump Sends Out Embarrassing New Year’...   \n",
       "1   Drunk Bragging Trump Staffer Started Russian ...   \n",
       "2   Sheriff David Clarke Becomes An Internet Joke...   \n",
       "3   Trump Is So Obsessed He Even Has Obama’s Name...   \n",
       "4   Pope Francis Just Called Out Donald Trump Dur...   \n",
       "\n",
       "                                                text  \\\n",
       "0  Donald Trump just couldn t wish all Americans ...   \n",
       "1  House Intelligence Committee Chairman Devin Nu...   \n",
       "2  On Friday, it was revealed that former Milwauk...   \n",
       "3  On Christmas day, Donald Trump announced that ...   \n",
       "4  Pope Francis used his annual Christmas Day mes...   \n",
       "\n",
       "                                            features  \n",
       "0  ([donald, trump, send, embarrass, new, year, e...  \n",
       "1  ([drunk, brag, trump, staffer, start, russian,...  \n",
       "2  ([sheriff, david, clark, becom, internet, joke...  \n",
       "3  ([trump, obsess, even, obama, name, code, webs...  \n",
       "4  ([pope, franci, call, donald, trump, christma,...  "
      ]
     },
     "execution_count": 4,
     "metadata": {},
     "output_type": "execute_result"
    }
   ],
   "source": [
    "df['features'] = df['title'].apply(lambda x: getTokenMatrix(x))\n",
    "df['features'] = list(zip(df.features, df.target))\n",
    "df = df.drop(['date', 'subject', 'target'], axis=1)\n",
    "df.head()"
   ]
  },
  {
   "cell_type": "code",
   "execution_count": 5,
   "id": "49cd9a49",
   "metadata": {},
   "outputs": [],
   "source": [
    "class Node:\n",
    "    # takes in a single row from one consistent pandas dataframe \n",
    "    # to make each row an object, so that KNN and ID3 can be exposed \n",
    "    # as an a RESTFUL API. \n",
    "    # methods: KNN, ID3 applied dynamicaly via input constraints\n",
    "    # \n",
    "    def __init__(self, features, k=5):\n",
    "        self.features  = features[0]\n",
    "        self.m = len(features)\n",
    "        self.k = k\n",
    "        self.label = features[1]\n",
    "        self.edges  = list()\n",
    "        self.entropy  = self.entropy() \n",
    "        self.infoGain = 1 - self.entropy\n",
    "#         self.classification = self.s1['target']\n",
    "#         self.embeddings = self.s1['token']\n",
    "        \n",
    "# DONE Jaccard Index & Score\n",
    "    def jaccard(self, endNode):\n",
    "        # endNode -> Node2.row\n",
    "        s1 = set(self.features)\n",
    "        s2 = set(endNode.features)\n",
    "        intersection = len(s1.intersection(s2))\n",
    "        union = (len(s1) + len(s2)) - intersection\n",
    "        jaccardSimularity = float(intersection) / union\n",
    "        jaccardDistance = 1-jaccardSimularity\n",
    "        return (jaccardSimularity,jaccardDistance)\n",
    "    \n",
    "    def entropy(self, base=None):\n",
    "        # NP Array\n",
    "        features = self.features\n",
    "        value,counts = np.unique(features, return_counts=True)\n",
    "        # normalize counts for self.row\n",
    "        norm_counts = counts / counts.sum()\n",
    "        # Base log e as default, or whatever else\n",
    "        base = e if base is None else base\n",
    "        # mathmatical formula for information entropy \n",
    "        res = -(norm_counts * np.log(norm_counts)/np.log(base)).sum()\n",
    "        return res\n",
    "      "
   ]
  },
  {
   "cell_type": "code",
   "execution_count": 10,
   "id": "54a6e6d8",
   "metadata": {},
   "outputs": [],
   "source": [
    "df['obj'] = df['features'].apply(lambda x: Node(x))"
   ]
  },
  {
   "cell_type": "code",
   "execution_count": 7,
   "id": "c65b488e",
   "metadata": {},
   "outputs": [
    {
     "name": "stdout",
     "output_type": "stream",
     "text": [
      "<__main__.Node object at 0x7f77f6acd310>\n",
      "<__main__.Node object at 0x7f77f6acd310>\n"
     ]
    },
    {
     "data": {
      "text/plain": [
       "(1.0, 0.0)"
      ]
     },
     "execution_count": 7,
     "metadata": {},
     "output_type": "execute_result"
    }
   ],
   "source": [
    "n = df['obj'].iloc[1]\n",
    "print(n)\n",
    "n2 = df['obj'].iloc[1]\n",
    "print(n2)\n",
    "n.jaccard(n2)\n"
   ]
  },
  {
   "cell_type": "code",
   "execution_count": 8,
   "id": "84cc7379",
   "metadata": {},
   "outputs": [],
   "source": [
    "class Graph:\n",
    "    \n",
    "    def __init__(self, listOfNodes):\n",
    "        self.nodes = listOfNodes\n",
    "        self.dict = {idx:(node.entropy, node) for idx,node in enumerate(listOfNodes)}            \n",
    "        self.n = len(self.nodes)\n",
    "        self.createAdjMatrix = self.adj((0,0))\n",
    "        \n",
    "    def createAdjMatrix(self,encoding):\n",
    "        # t = 0, 0:jaccard distance, 1:index, 2:euclidean\n",
    "        # (0,t) = distance -> T\n",
    "        # (1,k) = cluster groups together at K leaf\n",
    "\n",
    "        pass\n",
    "    \n",
    "    def knn(self, origin):\n",
    "        pass\n",
    "       \n",
    "    "
   ]
  },
  {
   "cell_type": "code",
   "execution_count": 9,
   "id": "700f2cd2",
   "metadata": {},
   "outputs": [],
   "source": [
    "# TODO D-Tree\n",
    "\n"
   ]
  }
 ],
 "metadata": {
  "kernelspec": {
   "display_name": "Python 3 (ipykernel)",
   "language": "python",
   "name": "python3"
  },
  "language_info": {
   "codemirror_mode": {
    "name": "ipython",
    "version": 3
   },
   "file_extension": ".py",
   "mimetype": "text/x-python",
   "name": "python",
   "nbconvert_exporter": "python",
   "pygments_lexer": "ipython3",
   "version": "3.8.3"
  }
 },
 "nbformat": 4,
 "nbformat_minor": 5
}
