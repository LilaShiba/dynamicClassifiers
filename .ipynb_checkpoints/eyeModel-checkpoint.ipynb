{
 "cells": [
  {
   "cell_type": "code",
   "execution_count": 1,
   "id": "967facb0",
   "metadata": {},
   "outputs": [],
   "source": [
    "import apiKey\n",
    "import pinecone\n",
    "import numpy as np\n",
    "import pandas as pd\n",
    "import collections"
   ]
  },
  {
   "cell_type": "code",
   "execution_count": 10,
   "id": "4d440ad7",
   "metadata": {},
   "outputs": [
    {
     "name": "stdout",
     "output_type": "stream",
     "text": [
      "['dogs']\n"
     ]
    }
   ],
   "source": [
    "# create index\n",
    " # init\n",
    "pinecone.init(api_key=apiKey.apiKey, environment=\"us-west1-gcp\")\n",
    "# create index\n",
    "index_name = 'dogs'\n",
    "# no doubles\n",
    "if index_name in pinecone.list_indexes():\n",
    "    pinecone.delete_index(index_name)\n",
    "# Create data\n",
    "dimensions = 3\n",
    "pinecone.create_index(name=index_name, dimension=dimensions, metric=\"euclidean\", shards=1)\n",
    "# List all existing indices for you API key\n",
    "print(pinecone.list_indexes())"
   ]
  },
  {
   "cell_type": "code",
   "execution_count": 11,
   "id": "41212081",
   "metadata": {},
   "outputs": [
    {
     "data": {
      "text/html": [
       "<div>\n",
       "<style scoped>\n",
       "    .dataframe tbody tr th:only-of-type {\n",
       "        vertical-align: middle;\n",
       "    }\n",
       "\n",
       "    .dataframe tbody tr th {\n",
       "        vertical-align: top;\n",
       "    }\n",
       "\n",
       "    .dataframe thead th {\n",
       "        text-align: right;\n",
       "    }\n",
       "</style>\n",
       "<table border=\"1\" class=\"dataframe\">\n",
       "  <thead>\n",
       "    <tr style=\"text-align: right;\">\n",
       "      <th></th>\n",
       "      <th>cords</th>\n",
       "      <th>emotion</th>\n",
       "      <th>x</th>\n",
       "      <th>y</th>\n",
       "      <th>dist</th>\n",
       "      <th>vectors</th>\n",
       "    </tr>\n",
       "  </thead>\n",
       "  <tbody>\n",
       "    <tr>\n",
       "      <th>0</th>\n",
       "      <td>(0.49, 0.76)</td>\n",
       "      <td>fear</td>\n",
       "      <td>0.49</td>\n",
       "      <td>0.76</td>\n",
       "      <td>0.576322</td>\n",
       "      <td>(0.49, 0.76, 0.5763222682136837)</td>\n",
       "    </tr>\n",
       "    <tr>\n",
       "      <th>1</th>\n",
       "      <td>(0.42, 0.49)</td>\n",
       "      <td>fear</td>\n",
       "      <td>0.42</td>\n",
       "      <td>0.49</td>\n",
       "      <td>0.306565</td>\n",
       "      <td>(0.42, 0.49, 0.3065653631347322)</td>\n",
       "    </tr>\n",
       "    <tr>\n",
       "      <th>2</th>\n",
       "      <td>(0.77, 0.48)</td>\n",
       "      <td>fear</td>\n",
       "      <td>0.77</td>\n",
       "      <td>0.48</td>\n",
       "      <td>0.578120</td>\n",
       "      <td>(0.77, 0.48, 0.5781201270622651)</td>\n",
       "    </tr>\n",
       "    <tr>\n",
       "      <th>3</th>\n",
       "      <td>(0.13, 0.85)</td>\n",
       "      <td>fear</td>\n",
       "      <td>0.13</td>\n",
       "      <td>0.85</td>\n",
       "      <td>0.622212</td>\n",
       "      <td>(0.13, 0.85, 0.6222122275716417)</td>\n",
       "    </tr>\n",
       "    <tr>\n",
       "      <th>4</th>\n",
       "      <td>(0.36, 0.18)</td>\n",
       "      <td>joy</td>\n",
       "      <td>0.36</td>\n",
       "      <td>0.18</td>\n",
       "      <td>0.129225</td>\n",
       "      <td>(0.36, 0.18, 0.12922501727882832)</td>\n",
       "    </tr>\n",
       "  </tbody>\n",
       "</table>\n",
       "</div>"
      ],
      "text/plain": [
       "          cords emotion     x     y      dist  \\\n",
       "0  (0.49, 0.76)    fear  0.49  0.76  0.576322   \n",
       "1  (0.42, 0.49)    fear  0.42  0.49  0.306565   \n",
       "2  (0.77, 0.48)    fear  0.77  0.48  0.578120   \n",
       "3  (0.13, 0.85)    fear  0.13  0.85  0.622212   \n",
       "4  (0.36, 0.18)     joy  0.36  0.18  0.129225   \n",
       "\n",
       "                             vectors  \n",
       "0   (0.49, 0.76, 0.5763222682136837)  \n",
       "1   (0.42, 0.49, 0.3065653631347322)  \n",
       "2   (0.77, 0.48, 0.5781201270622651)  \n",
       "3   (0.13, 0.85, 0.6222122275716417)  \n",
       "4  (0.36, 0.18, 0.12922501727882832)  "
      ]
     },
     "execution_count": 11,
     "metadata": {},
     "output_type": "execute_result"
    }
   ],
   "source": [
    "df = pd.read_csv('model.csv')\n",
    "df['vectors'] = list(zip(df.x,df.y,df.dist))\n",
    "df = df[0:999]\n",
    "df.head()"
   ]
  },
  {
   "cell_type": "code",
   "execution_count": 12,
   "id": "156a7f91",
   "metadata": {},
   "outputs": [
    {
     "data": {
      "text/plain": [
       "{'upserted_count': 999}"
      ]
     },
     "execution_count": 12,
     "metadata": {},
     "output_type": "execute_result"
    }
   ],
   "source": [
    "# UPSERT\n",
    "index = pinecone.Index(index_name=index_name)\n",
    "# Upsert vectors\n",
    "index.upsert(vectors=zip(df.emotion, df.vectors))"
   ]
  },
  {
   "cell_type": "code",
   "execution_count": 13,
   "id": "e09fd92f",
   "metadata": {},
   "outputs": [
    {
     "data": {
      "text/plain": [
       "{'results': [{'matches': [{'id': 'surprise',\n",
       "                           'score': 0.999999285,\n",
       "                           'values': [0.51, 0.79, 0.612004459]},\n",
       "                          {'id': 'fear',\n",
       "                           'score': 0.999942958,\n",
       "                           'values': [0.49, 0.76, 0.576322258]},\n",
       "                          {'id': 'joy',\n",
       "                           'score': 0.999837816,\n",
       "                           'values': [0.51, 0.76, 0.585112929]}],\n",
       "              'namespace': ''}]}"
      ]
     },
     "execution_count": 13,
     "metadata": {},
     "output_type": "execute_result"
    }
   ],
   "source": [
    "# query\n",
    "index.query(\n",
    "  queries=[[0.49, 0.76, 0.59]],\n",
    "  top_k=3,\n",
    "  include_values=True\n",
    ")"
   ]
  },
  {
   "cell_type": "code",
   "execution_count": null,
   "id": "8eb86cf3",
   "metadata": {},
   "outputs": [],
   "source": []
  },
  {
   "cell_type": "code",
   "execution_count": null,
   "id": "d6b6e08a",
   "metadata": {},
   "outputs": [],
   "source": []
  }
 ],
 "metadata": {
  "kernelspec": {
   "display_name": "Python 3 (ipykernel)",
   "language": "python",
   "name": "python3"
  },
  "language_info": {
   "codemirror_mode": {
    "name": "ipython",
    "version": 3
   },
   "file_extension": ".py",
   "mimetype": "text/x-python",
   "name": "python",
   "nbconvert_exporter": "python",
   "pygments_lexer": "ipython3",
   "version": "3.8.3"
  }
 },
 "nbformat": 4,
 "nbformat_minor": 5
}
